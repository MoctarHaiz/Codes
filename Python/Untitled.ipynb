{
 "cells": [
  {
   "cell_type": "code",
   "execution_count": 16,
   "id": "2adb314d-f434-4402-ae9d-a7315b14d9ad",
   "metadata": {},
   "outputs": [
    {
     "data": {
      "text/plain": [
       " 0\n",
       " 1\n",
       " 2\n",
       " 3\n",
       " 4\n",
       " 5\n",
       " 6\n",
       " 7\n",
       " 8\n",
       "[torch.LongStorage of size 9]"
      ]
     },
     "execution_count": 16,
     "metadata": {},
     "output_type": "execute_result"
    }
   ],
   "source": [
    "import torch\n",
    "a = torch.tensor( list(range(9)))\n",
    "a\n",
    "a.storage()"
   ]
  },
  {
   "cell_type": "code",
   "execution_count": 19,
   "id": "9a48b535-68a9-44ae-87eb-b9ad84c93167",
   "metadata": {},
   "outputs": [
    {
     "name": "stdout",
     "output_type": "stream",
     "text": [
      "tensor([[0, 1, 2],\n",
      "        [3, 4, 5],\n",
      "        [6, 7, 8]])\n"
     ]
    },
    {
     "data": {
      "text/plain": [
       "True"
      ]
     },
     "execution_count": 19,
     "metadata": {},
     "output_type": "execute_result"
    }
   ],
   "source": [
    "b =a.view(3,3)\n",
    "print(b)\n",
    "id(a.storage() ) == id(b.storage())"
   ]
  },
  {
   "cell_type": "code",
   "execution_count": 43,
   "id": "24bc25ef-59ab-4bc9-abec-4ce44953810c",
   "metadata": {},
   "outputs": [
    {
     "name": "stdout",
     "output_type": "stream",
     "text": [
      "torch.Size([2, 2])\n",
      "4\n",
      "(3, 1)\n"
     ]
    },
    {
     "data": {
      "text/plain": [
       "tensor([[0, 1, 2],\n",
       "        [3, 4, 5],\n",
       "        [6, 7, 8]])"
      ]
     },
     "execution_count": 43,
     "metadata": {},
     "output_type": "execute_result"
    }
   ],
   "source": [
    "c =b[1:,1:]\n",
    "print(c.size())\n",
    "print(c.storage_offset())\n",
    "print(c.stride())\n",
    "b.to(dtype=torch.float64).cos_()\n",
    "b"
   ]
  },
  {
   "cell_type": "code",
   "execution_count": null,
   "id": "8c7910ba-0e96-470b-8169-39983f6fc1f3",
   "metadata": {},
   "outputs": [],
   "source": []
  }
 ],
 "metadata": {
  "kernelspec": {
   "display_name": "Python 3",
   "language": "python",
   "name": "python3"
  },
  "language_info": {
   "codemirror_mode": {
    "name": "ipython",
    "version": 3
   },
   "file_extension": ".py",
   "mimetype": "text/x-python",
   "name": "python",
   "nbconvert_exporter": "python",
   "pygments_lexer": "ipython3",
   "version": "3.7.3"
  }
 },
 "nbformat": 4,
 "nbformat_minor": 5
}
