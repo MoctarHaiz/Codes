{
 "cells": [
  {
   "cell_type": "code",
   "execution_count": 15,
   "id": "3528a7ac-f06d-42f2-b460-e0a8bd58f170",
   "metadata": {},
   "outputs": [],
   "source": [
    "from torchvision import models\n",
    "#dir(models)"
   ]
  },
  {
   "cell_type": "code",
   "execution_count": 16,
   "id": "8104fcab-c804-4608-b925-11eac031b75f",
   "metadata": {},
   "outputs": [],
   "source": [
    "alexnet = models.AlexNet()\n",
    "resnet = models.resnet101(pretrained=True)\n",
    "#resnet"
   ]
  },
  {
   "cell_type": "code",
   "execution_count": null,
   "id": "1d264351-d591-4b2c-aa7c-7f4ef133b81f",
   "metadata": {},
   "outputs": [],
   "source": [
    "from torchvision import transform\n",
    "preprocess = transforms.Compose(\n",
    "    [transforms.Resize(256),\n",
    "     transforms.CenterCrop(224),\n",
    "     transforms.ToTensor(),\n",
    "     transforms.Normalize(\n",
    "         mean = [0.485])\n",
    "                                ])"
   ]
  }
 ],
 "metadata": {
  "kernelspec": {
   "display_name": "Python 3",
   "language": "python",
   "name": "python3"
  },
  "language_info": {
   "codemirror_mode": {
    "name": "ipython",
    "version": 3
   },
   "file_extension": ".py",
   "mimetype": "text/x-python",
   "name": "python",
   "nbconvert_exporter": "python",
   "pygments_lexer": "ipython3",
   "version": "3.7.3"
  }
 },
 "nbformat": 4,
 "nbformat_minor": 5
}
