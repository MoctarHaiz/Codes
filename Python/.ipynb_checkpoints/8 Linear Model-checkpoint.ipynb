{
 "cells": [
  {
   "cell_type": "code",
   "execution_count": 5,
   "id": "305db47b-47eb-4a77-aec1-261e29a63b41",
   "metadata": {},
   "outputs": [
    {
     "name": "stdout",
     "output_type": "stream",
     "text": [
      "torch.Size([11])\n"
     ]
    }
   ],
   "source": [
    "import torch \n",
    "t_c = [0.5,  14.0, 15.0, 28.0, 11.0,  8.0,  3.0, -4.0,  6.0, 13.0, 21.0]\n",
    "t_u = [35.7, 55.9, 58.2, 81.9, 56.3, 48.9, 33.9, 21.8, 48.4, 60.4, 68.4]\n",
    "t_c = torch.tensor(t_c)\n",
    "t_u = torch.tensor(t_u)\n",
    "print(t_c.shape)"
   ]
  },
  {
   "cell_type": "code",
   "execution_count": 6,
   "id": "a3c2c6fd-04d6-4710-8138-09163cd81fed",
   "metadata": {},
   "outputs": [],
   "source": [
    "def model (t_u, w,b):\n",
    "    return w*t_u + b"
   ]
  },
  {
   "cell_type": "code",
   "execution_count": 7,
   "id": "62fb0a04-b1fb-429a-a5ef-16d8b1f2fc8e",
   "metadata": {},
   "outputs": [],
   "source": [
    "def loss_fn (t_p,t_c):\n",
    "    return torch.mean((t_p - t_c)**2) # ** power of 2"
   ]
  },
  {
   "cell_type": "code",
   "execution_count": 11,
   "id": "90dda78a-c1af-4a1f-858f-95065e197fb1",
   "metadata": {},
   "outputs": [
    {
     "data": {
      "text/plain": [
       "tensor(1763.8848)"
      ]
     },
     "execution_count": 11,
     "metadata": {},
     "output_type": "execute_result"
    }
   ],
   "source": [
    "w = torch.ones(())\n",
    "b = torch.zeros(())\n",
    "t_p = model(t_u,w,b)\n",
    "loss_fn(t_p,t_c)"
   ]
  },
  {
   "cell_type": "code",
   "execution_count": 28,
   "id": "80486f40-d0db-4712-8436-9d055f8ada64",
   "metadata": {},
   "outputs": [
    {
     "data": {
      "text/plain": [
       "tensor(4517.2974)"
      ]
     },
     "execution_count": 28,
     "metadata": {},
     "output_type": "execute_result"
    }
   ],
   "source": [
    "delta = 0.1\n",
    "loss_rate_of_change_w = \\\n",
    "    (loss_fn(model(t_u, w + delta, b), t_c) - \n",
    "     loss_fn(model(t_u, w - delta, b), t_c)) / (2.0 * delta)\n",
    "loss_rate_of_change_w"
   ]
  },
  {
   "cell_type": "markdown",
   "id": "1da9d783-ea9a-4b9d-8b90-a28b541e6046",
   "metadata": {},
   "source": []
  },
  {
   "cell_type": "code",
   "execution_count": null,
   "id": "61765b7b-0ab4-4c53-912e-8aed9dbcfe20",
   "metadata": {},
   "outputs": [],
   "source": []
  }
 ],
 "metadata": {
  "kernelspec": {
   "display_name": "Python 3",
   "language": "python",
   "name": "python3"
  },
  "language_info": {
   "codemirror_mode": {
    "name": "ipython",
    "version": 3
   },
   "file_extension": ".py",
   "mimetype": "text/x-python",
   "name": "python",
   "nbconvert_exporter": "python",
   "pygments_lexer": "ipython3",
   "version": "3.8.7"
  }
 },
 "nbformat": 4,
 "nbformat_minor": 5
}
